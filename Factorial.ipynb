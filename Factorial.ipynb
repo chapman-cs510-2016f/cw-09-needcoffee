{
 "cells": [
  {
   "cell_type": "markdown",
   "metadata": {},
   "source": [
    "# Classwork 9: Factorials in C\n",
    "## Alexis Ford and Afnan Alqahtani\n",
    "### Describing the algorithm  \n",
    "The factorial function takes a single integer argument, `n`, and also initializes an integer `fac` to the value of `n`. While `n` is positive, it is decremented, and `fac` is assigned the values of `fac*n`. Once `n` is decremented to 0, or if it is initialized with a value less than 1, `fac` is returned. "
   ]
  },
  {
   "cell_type": "markdown",
   "metadata": {},
   "source": [
    "### Problems with the current function definition  \n",
    "There are two main problems with the function definition as it stands. The first is that the case of `n=0`, which should return 1 since $0!=1$, returns 0 instead. The second issue i s that, for any integer input grater than 0, the function continues to return 0. This is due to how `n` is decremented in the `while` loop. When `n=1` and enters the loop, it is decremented to 0, which is then multiplied by `fac`. Then we exit the loop and return `fac`, which will always be 0 because of that final product."
   ]
  },
  {
   "cell_type": "markdown",
   "metadata": {},
   "source": [
    "### Fixing the function  \n",
    "The first problem can be fixed rather easily: an `if` statement for `n=0` would suffice. Then, changing the condition in the `while` loop to be `n>1` would solve the issue of the final loop multiplying by 0. Though it is not affecting the validity of the functions output, changing the type of `n` to `unsigned int` could be beneficial; the input for a function that computes the factorial, in most cases, should not be negative. However, since an `unsigned int` can store larger values than an `int`, if the result of the function is to be used in calculations with `int`s, there could be problems when the result is typecasted. Instead, we will add an `if` statement that returns -1 when `n` is negative."
   ]
  }
 ],
 "metadata": {
  "anaconda-cloud": {},
  "kernelspec": {
   "display_name": "Python [default]",
   "language": "python",
   "name": "python3"
  },
  "language_info": {
   "codemirror_mode": {
    "name": "ipython",
    "version": 3
   },
   "file_extension": ".py",
   "mimetype": "text/x-python",
   "name": "python",
   "nbconvert_exporter": "python",
   "pygments_lexer": "ipython3",
   "version": "3.5.2"
  }
 },
 "nbformat": 4,
 "nbformat_minor": 1
}
