{
 "cells": [
  {
   "cell_type": "markdown",
   "metadata": {
    "collapsed": false
   },
   "source": [
    "# Afnan Alqahtani and Alexis Ford"
   ]
  },
  {
   "cell_type": "markdown",
   "metadata": {},
   "source": [
    "### Describe what the purpose of a Makefile is:\n",
    "\n",
    "Make file almost restruct everything in the program tells everything how it should run. it makes the source and header file go through preprocesore then compileis them a machine code. which all the object files git linked by the linker and executed to a binary program and make it excutable. At the end we run the make file at the tirminal and if theres any error it will highlited."
   ]
  },
  {
   "cell_type": "markdown",
   "metadata": {},
   "source": [
    "### Describe how the code is organized here. Why is this a reasonable structure?\n",
    "\n",
    "It starts with a header \"#include \"factorial.h\" then the functin ( int factorial(int n) ) .Theres a variable name fac we verify its type int and assigned it to n. then we have a While loop that take an intger type grater than Zero and decremented by one then multypli it by the previce number till its reach 0 it will stop."
   ]
  },
  {
   "cell_type": "markdown",
   "metadata": {},
   "source": [
    "### Describe what a header file is.\n",
    "\n",
    "the header file difined the functions and the type. defined the type it takes and it returns."
   ]
  },
  {
   "cell_type": "markdown",
   "metadata": {},
   "source": [
    "### Describe what a source file is.\n",
    "Source code is the fundamental component of a computer program that is created by a programmer. It can be read and  understood by a human the user. "
   ]
  },
  {
   "cell_type": "markdown",
   "metadata": {},
   "source": [
    "### Describe what an object file is.\n",
    "\n",
    "Its an output from the compilation. Usulay its a machine code"
   ]
  },
  {
   "cell_type": "markdown",
   "metadata": {},
   "source": [
    "### Describe what compiling is.\n",
    "\n",
    "A compiler is a computer program that changes source codea \"high-level programming language\" into another computer language."
   ]
  },
  {
   "cell_type": "markdown",
   "metadata": {},
   "source": [
    "### Describe what linking is.\n",
    "\n",
    "It linkes all the Object files together then execute them into binary program."
   ]
  },
  {
   "cell_type": "code",
   "execution_count": null,
   "metadata": {
    "collapsed": true
   },
   "outputs": [],
   "source": []
  }
 ],
 "metadata": {
  "kernelspec": {
   "display_name": "Python 2 (SageMath)",
   "language": "python",
   "name": "python2"
  },
  "language_info": {
   "codemirror_mode": {
    "name": "ipython",
    "version": 2
   },
   "file_extension": ".py",
   "mimetype": "text/x-python",
   "name": "python",
   "nbconvert_exporter": "python",
   "pygments_lexer": "ipython2",
   "version": "2.7.10"
  }
 },
 "nbformat": 4,
 "nbformat_minor": 0
}
